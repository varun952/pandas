{
 "cells": [
  {
   "cell_type": "code",
   "execution_count": 1,
   "metadata": {},
   "outputs": [],
   "source": [
    "import os\n",
    "import pandas as pd\n",
    "\n",
    "os.chdir(\"/home/mediaworker/anaconda2/envs/pandas_playground/\")\n",
    "\n",
    "# read pokemon dataset from csv and generate pandas series with pokemon as index column\n",
    "pokemon = pd.read_csv(\"datasets/pokemon.csv\", index_col=\"Pokemon\", squeeze=True)\n",
    "\n",
    "# read google dataset from csv and generate pandas series\n",
    "google = pd.read_csv(\"datasets/google_stock_price.csv\", squeeze=True)"
   ]
  },
  {
   "cell_type": "code",
   "execution_count": 3,
   "metadata": {},
   "outputs": [
    {
     "data": {
      "text/plain": [
       "Pokemon\n",
       "Bulbasaur     Grass\n",
       "Ivysaur       Grass\n",
       "Venusaur      Grass\n",
       "Charmander     Fire\n",
       "Charmeleon     Fire\n",
       "Name: Type, dtype: object"
      ]
     },
     "execution_count": 3,
     "metadata": {},
     "output_type": "execute_result"
    }
   ],
   "source": [
    "# by default fetches top 5 rows\n",
    "pokemon.head()"
   ]
  },
  {
   "cell_type": "code",
   "execution_count": 5,
   "metadata": {},
   "outputs": [
    {
     "data": {
      "text/plain": [
       "Water       105\n",
       "Normal       93\n",
       "Grass        66\n",
       "Bug          63\n",
       "Psychic      47\n",
       "Fire         47\n",
       "Rock         41\n",
       "Electric     36\n",
       "Ground       30\n",
       "Dark         28\n",
       "Poison       28\n",
       "Fighting     25\n",
       "Dragon       24\n",
       "Ghost        23\n",
       "Ice          23\n",
       "Steel        22\n",
       "Fairy        17\n",
       "Flying        3\n",
       "Name: Type, dtype: int64"
      ]
     },
     "execution_count": 5,
     "metadata": {},
     "output_type": "execute_result"
    }
   ],
   "source": [
    "# number of occurences of valuesin the pokemon pandas series\n",
    "pokemon.value_counts"
   ]
  },
  {
   "cell_type": "code",
   "execution_count": 7,
   "metadata": {},
   "outputs": [
    {
     "data": {
      "text/plain": [
       "721"
      ]
     },
     "execution_count": 7,
     "metadata": {},
     "output_type": "execute_result"
    }
   ],
   "source": [
    "pokemon.value_counts().sum()"
   ]
  },
  {
   "cell_type": "code",
   "execution_count": 8,
   "metadata": {},
   "outputs": [
    {
     "data": {
      "text/plain": [
       "721"
      ]
     },
     "execution_count": 8,
     "metadata": {},
     "output_type": "execute_result"
    }
   ],
   "source": [
    "pokemon.count()"
   ]
  },
  {
   "cell_type": "code",
   "execution_count": 10,
   "metadata": {},
   "outputs": [
    {
     "data": {
      "text/plain": [
       "Flying        3\n",
       "Fairy        17\n",
       "Steel        22\n",
       "Ice          23\n",
       "Ghost        23\n",
       "Dragon       24\n",
       "Fighting     25\n",
       "Poison       28\n",
       "Dark         28\n",
       "Ground       30\n",
       "Electric     36\n",
       "Rock         41\n",
       "Fire         47\n",
       "Psychic      47\n",
       "Bug          63\n",
       "Grass        66\n",
       "Normal       93\n",
       "Water       105\n",
       "Name: Type, dtype: int64"
      ]
     },
     "execution_count": 10,
     "metadata": {},
     "output_type": "execute_result"
    }
   ],
   "source": [
    "# sort based on  values that occur least frequently\n",
    "pokemon.value_counts(ascending=True)"
   ]
  },
  {
   "cell_type": "code",
   "execution_count": null,
   "metadata": {},
   "outputs": [],
   "source": []
  }
 ],
 "metadata": {
  "kernelspec": {
   "display_name": "Python 2",
   "language": "python",
   "name": "python2"
  },
  "language_info": {
   "codemirror_mode": {
    "name": "ipython",
    "version": 2
   },
   "file_extension": ".py",
   "mimetype": "text/x-python",
   "name": "python",
   "nbconvert_exporter": "python",
   "pygments_lexer": "ipython2",
   "version": "2.7.12"
  }
 },
 "nbformat": 4,
 "nbformat_minor": 2
}
