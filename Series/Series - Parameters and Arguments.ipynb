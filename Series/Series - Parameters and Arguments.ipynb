{
 "cells": [
  {
   "cell_type": "markdown",
   "metadata": {},
   "source": [
    "## Parameters and Arguments"
   ]
  },
  {
   "cell_type": "code",
   "execution_count": 8,
   "metadata": {},
   "outputs": [
    {
     "data": {
      "text/plain": [
       "Mon         Apple\n",
       "Tue        Orange\n",
       "Wed          Plum\n",
       "Thur        Grape\n",
       "Fri     Blueberry\n",
       "dtype: object"
      ]
     },
     "execution_count": 8,
     "metadata": {},
     "output_type": "execute_result"
    }
   ],
   "source": [
    "# Difficulty - Easy, Medium, Hard\n",
    "# Volume -1 through 10\n",
    "# Subtitles - True / False\n",
    "import pandas as pd\n",
    "\n",
    "fruits = [\"Apple\", \"Orange\", \"Plum\", \"Grape\", \"Blueberry\"]\n",
    "weekdays = [\"Mon\", \"Tue\", \"Wed\", \"Thur\", \"Fri\"]\n",
    "\n",
    "# keeping weekdays as index, hence skipping\n",
    "# default numeric index \n",
    "pd.Series(data=fruits, index=weekdays)\n"
   ]
  },
  {
   "cell_type": "code",
   "execution_count": 12,
   "metadata": {},
   "outputs": [
    {
     "data": {
      "text/plain": [
       "Mon          Apple\n",
       "Tue         Orange\n",
       "Wed           Plum\n",
       "Thur         Grape\n",
       "Fri      Blueberry\n",
       "Mon     Watermelon\n",
       "dtype: object"
      ]
     },
     "execution_count": 12,
     "metadata": {},
     "output_type": "execute_result"
    }
   ],
   "source": [
    "# Both lists will be of identical length\n",
    "fruits = [\"Apple\", \"Orange\", \"Plum\", \"Grape\", \"Blueberry\", \"Watermelon\"]\n",
    "weekdays = [\"Mon\", \"Tue\", \"Wed\", \"Thur\", \"Fri\", \"Mon\"]\n",
    "\n",
    "pd.Series(data=fruits, index=weekdays)\n",
    "\n"
   ]
  },
  {
   "cell_type": "code",
   "execution_count": null,
   "metadata": {},
   "outputs": [],
   "source": []
  }
 ],
 "metadata": {
  "kernelspec": {
   "display_name": "Python 3",
   "language": "python",
   "name": "python3"
  },
  "language_info": {
   "codemirror_mode": {
    "name": "ipython",
    "version": 3
   },
   "file_extension": ".py",
   "mimetype": "text/x-python",
   "name": "python",
   "nbconvert_exporter": "python",
   "pygments_lexer": "ipython3",
   "version": "3.8.3"
  }
 },
 "nbformat": 4,
 "nbformat_minor": 4
}
