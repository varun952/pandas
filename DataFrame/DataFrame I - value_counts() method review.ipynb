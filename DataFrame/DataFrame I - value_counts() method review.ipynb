{
 "cells": [
  {
   "cell_type": "markdown",
   "metadata": {},
   "source": [
    "## value_count()\n",
    "### This method is only available on pandas series\n",
    "\n",
    "### How to use in pandas dataframes:\n",
    "  #### 1. Fetch the columns\n",
    "  #### 2. perform value_counts of return series"
   ]
  },
  {
   "cell_type": "code",
   "execution_count": 1,
   "metadata": {},
   "outputs": [
    {
     "data": {
      "text/plain": [
       "0    25.0\n",
       "1    25.0\n",
       "2    27.0\n",
       "Name: Age, dtype: float64"
      ]
     },
     "execution_count": 1,
     "metadata": {},
     "output_type": "execute_result"
    }
   ],
   "source": [
    "import os\n",
    "import pandas as pd\n",
    "\n",
    "os.chdir(\"/home/mediaworker/anaconda2/envs/pandas_playground\")\n",
    "\n",
    "nba = pd.read_csv(\"datasets/nba.csv\")\n",
    "\n",
    "nba[\"Age\"].head(3)"
   ]
  },
  {
   "cell_type": "code",
   "execution_count": 2,
   "metadata": {},
   "outputs": [
    {
     "data": {
      "text/plain": [
       "New Orleans Pelicans    19\n",
       "Memphis Grizzlies       18\n",
       "Milwaukee Bucks         16\n",
       "New York Knicks         16\n",
       "Denver Nuggets          15\n",
       "Name: Team, dtype: int64"
      ]
     },
     "execution_count": 2,
     "metadata": {},
     "output_type": "execute_result"
    }
   ],
   "source": [
    "# lets check frequency of teams\n",
    "nba[\"Team\"].value_counts().head(5)"
   ]
  },
  {
   "cell_type": "code",
   "execution_count": 5,
   "metadata": {},
   "outputs": [
    {
     "data": {
      "text/plain": [
       "278.0    1\n",
       "227.0    1\n",
       "239.0    1\n",
       "289.0    1\n",
       "307.0    1\n",
       "Name: Weight, dtype: int64"
      ]
     },
     "execution_count": 5,
     "metadata": {},
     "output_type": "execute_result"
    }
   ],
   "source": [
    "# lets check least common weigth analysis\n",
    "nba[\"Weight\"].value_counts().tail(5)"
   ]
  },
  {
   "cell_type": "code",
   "execution_count": 7,
   "metadata": {},
   "outputs": [
    {
     "data": {
      "text/plain": [
       "947276.0     31\n",
       "845059.0     18\n",
       "525093.0     13\n",
       "981348.0      6\n",
       "1100602.0     5\n",
       "Name: Salary, dtype: int64"
      ]
     },
     "execution_count": 7,
     "metadata": {},
     "output_type": "execute_result"
    }
   ],
   "source": [
    "# lets check highest salaries earned\n",
    "nba[\"Salary\"].value_counts().head(5)"
   ]
  },
  {
   "cell_type": "code",
   "execution_count": null,
   "metadata": {},
   "outputs": [],
   "source": []
  }
 ],
 "metadata": {
  "kernelspec": {
   "display_name": "Python 2",
   "language": "python",
   "name": "python2"
  },
  "language_info": {
   "codemirror_mode": {
    "name": "ipython",
    "version": 2
   },
   "file_extension": ".py",
   "mimetype": "text/x-python",
   "name": "python",
   "nbconvert_exporter": "python",
   "pygments_lexer": "ipython2",
   "version": "2.7.12"
  }
 },
 "nbformat": 4,
 "nbformat_minor": 2
}
